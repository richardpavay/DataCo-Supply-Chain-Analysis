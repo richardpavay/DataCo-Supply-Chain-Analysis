{
 "cells": [
  {
   "attachments": {},
   "cell_type": "markdown",
   "metadata": {},
   "source": [
    "#### Importing libraries"
   ]
  },
  {
   "cell_type": "code",
   "execution_count": 2,
   "metadata": {},
   "outputs": [],
   "source": [
    "# imporing libraries\n",
    "import pandas as pd\n",
    "import numpy as np\n",
    "import os\n",
    "import ydata_profiling as yd"
   ]
  },
  {
   "cell_type": "code",
   "execution_count": 3,
   "metadata": {},
   "outputs": [],
   "source": [
    "# importing data\n",
    "path = r'C:\\Users\\Richárd\\Desktop\\CareerFoundry\\Data Immersion\\Achievement 6\\project\\Data'\n",
    "raw_data = pd.read_csv(os.path.join(path, 'supply_chain_raw.csv'), encoding = 'latin-1')"
   ]
  },
  {
   "cell_type": "code",
   "execution_count": 5,
   "metadata": {},
   "outputs": [
    {
     "data": {
      "text/plain": [
       "count    180519.000000\n",
       "mean         21.974989\n",
       "std         104.433526\n",
       "min       -4274.979980\n",
       "25%           7.000000\n",
       "50%          31.520000\n",
       "75%          64.800003\n",
       "max         911.799988\n",
       "Name: Order Profit Per Order, dtype: float64"
      ]
     },
     "execution_count": 5,
     "metadata": {},
     "output_type": "execute_result"
    }
   ],
   "source": [
    "raw_data['Order Profit Per Order']"
   ]
  },
  {
   "cell_type": "code",
   "execution_count": 34,
   "metadata": {},
   "outputs": [
    {
     "data": {
      "text/plain": [
       "Index(['Type', 'Days for shipping (real)', 'Days for shipment (scheduled)',\n",
       "       'Benefit per order', 'Sales per customer', 'Delivery Status',\n",
       "       'Late_delivery_risk', 'Category Id', 'Category Name', 'Customer City',\n",
       "       'Customer Country', 'Customer Email', 'Customer Fname', 'Customer Id',\n",
       "       'Customer Lname', 'Customer Password', 'Customer Segment',\n",
       "       'Customer State', 'Customer Street', 'Customer Zipcode',\n",
       "       'Department Id', 'Department Name', 'Latitude', 'Longitude', 'Market',\n",
       "       'Order City', 'Order Country', 'Order Customer Id',\n",
       "       'order date (DateOrders)', 'Order Id', 'Order Item Cardprod Id',\n",
       "       'Order Item Discount', 'Order Item Discount Rate', 'Order Item Id',\n",
       "       'Order Item Product Price', 'Order Item Profit Ratio',\n",
       "       'Order Item Quantity', 'Sales', 'Order Item Total',\n",
       "       'Order Profit Per Order', 'Order Region', 'Order State', 'Order Status',\n",
       "       'Order Zipcode', 'Product Card Id', 'Product Category Id',\n",
       "       'Product Description', 'Product Image', 'Product Name', 'Product Price',\n",
       "       'Product Status', 'shipping date (DateOrders)', 'Shipping Mode'],\n",
       "      dtype='object')"
      ]
     },
     "execution_count": 34,
     "metadata": {},
     "output_type": "execute_result"
    }
   ],
   "source": [
    "raw_data.columns"
   ]
  },
  {
   "attachments": {},
   "cell_type": "markdown",
   "metadata": {},
   "source": [
    "#### Cleaning and consistency checks"
   ]
  },
  {
   "cell_type": "code",
   "execution_count": 35,
   "metadata": {},
   "outputs": [],
   "source": [
    "# omitting unecessary columns\n",
    "# omitted due being irrelevant: ['Customer Email', 'Customer Fname', 'Customer Lname', 'Customer Password', 'Customer Zipcode', 'Latitude', 'Longitude', 'Order Item Cardprod Id', 'Order Zipcode', 'Product Image', 'Product Description']\n",
    "# omitted duplicate columns : ['Order Customer Id', 'Product Category Id', 'Order Item Product Price', 'Order Profit Per Order', 'Order Item Total',]\n",
    "supply_chain = raw_data[['Type', 'Days for shipping (real)', 'Days for shipment (scheduled)',\n",
    "       'Benefit per order', 'Sales per customer', 'Delivery Status',\n",
    "       'Late_delivery_risk', 'Category Id', 'Category Name', 'Customer City',\n",
    "       'Customer Country', 'Customer Id', 'Customer Segment',\n",
    "       'Customer State', 'Department Id', 'Department Name', 'Market',\n",
    "       'Order City', 'Order Country', \n",
    "       'order date (DateOrders)', 'Order Id', 'Order Item Discount', 'Order Item Discount Rate', 'Order Item Id',\n",
    "       'Order Item Profit Ratio',\n",
    "       'Order Item Quantity', 'Sales',\n",
    "       'Order Region', 'Order State', 'Order Status', 'Product Card Id', 'Product Name', 'Product Price',\n",
    "       'Product Status', 'shipping date (DateOrders)', 'Shipping Mode']]"
   ]
  },
  {
   "cell_type": "code",
   "execution_count": 36,
   "metadata": {},
   "outputs": [
    {
     "data": {
      "text/plain": [
       "False    180519\n",
       "dtype: int64"
      ]
     },
     "execution_count": 36,
     "metadata": {},
     "output_type": "execute_result"
    }
   ],
   "source": [
    "# checking for duplicates\n",
    "# no duplicates found\n",
    "supply_chain.duplicated().value_counts()"
   ]
  },
  {
   "cell_type": "code",
   "execution_count": 37,
   "metadata": {},
   "outputs": [
    {
     "data": {
      "text/plain": [
       "Type   Days for shipping (real)  Days for shipment (scheduled)  Benefit per order  Sales per customer  Delivery Status  Late_delivery_risk  Category Id  Category Name  Customer City  Customer Country  Customer Id  Customer Segment  Customer State  Department Id  Department Name  Market  Order City  Order Country  order date (DateOrders)  Order Id  Order Item Discount  Order Item Discount Rate  Order Item Id  Order Item Profit Ratio  Order Item Quantity  Sales  Order Region  Order State  Order Status  Product Card Id  Product Name  Product Price  Product Status  shipping date (DateOrders)  Shipping Mode\n",
       "False  False                     False                          False              False               False            False               False        False          False          False             False        False             False           False          False            False   False       False          False                    False     False                False                     False          False                    False                False  False         False        False         False            False         False          False           False                       False            180519\n",
       "dtype: int64"
      ]
     },
     "execution_count": 37,
     "metadata": {},
     "output_type": "execute_result"
    }
   ],
   "source": [
    "# checking for missing values\n",
    "# no missing values found\n",
    "supply_chain.isnull().value_counts()"
   ]
  },
  {
   "cell_type": "code",
   "execution_count": 38,
   "metadata": {},
   "outputs": [
    {
     "data": {
      "text/plain": [
       "0.7830126027871401"
      ]
     },
     "execution_count": 38,
     "metadata": {},
     "output_type": "execute_result"
    }
   ],
   "source": [
    "# negative profit values\n",
    "# these negative values are suspicious, and there is no clear indication what they mean\n",
    "# However they make up 19% of total entries so removing or modifying them would be wrong, this is a situation where data owner input would be very valuable\n",
    "neg_profit_df = supply_chain[supply_chain['Benefit per order'] <= 0]\n",
    "neg_profit_df['Sales'].corr(neg_profit_df['Product Price'])"
   ]
  },
  {
   "cell_type": "code",
   "execution_count": 39,
   "metadata": {},
   "outputs": [
    {
     "data": {
      "text/html": [
       "<div>\n",
       "<style scoped>\n",
       "    .dataframe tbody tr th:only-of-type {\n",
       "        vertical-align: middle;\n",
       "    }\n",
       "\n",
       "    .dataframe tbody tr th {\n",
       "        vertical-align: top;\n",
       "    }\n",
       "\n",
       "    .dataframe thead th {\n",
       "        text-align: right;\n",
       "    }\n",
       "</style>\n",
       "<table border=\"1\" class=\"dataframe\">\n",
       "  <thead>\n",
       "    <tr style=\"text-align: right;\">\n",
       "      <th></th>\n",
       "      <th>Order Item Profit Ratio</th>\n",
       "      <th>Benefit per order</th>\n",
       "    </tr>\n",
       "  </thead>\n",
       "  <tbody>\n",
       "    <tr>\n",
       "      <th>count</th>\n",
       "      <td>34961.000000</td>\n",
       "      <td>34961.000000</td>\n",
       "    </tr>\n",
       "    <tr>\n",
       "      <th>mean</th>\n",
       "      <td>-0.603989</td>\n",
       "      <td>-111.082273</td>\n",
       "    </tr>\n",
       "    <tr>\n",
       "      <th>std</th>\n",
       "      <td>0.626538</td>\n",
       "      <td>158.916698</td>\n",
       "    </tr>\n",
       "    <tr>\n",
       "      <th>min</th>\n",
       "      <td>-2.750000</td>\n",
       "      <td>-4274.979980</td>\n",
       "    </tr>\n",
       "    <tr>\n",
       "      <th>25%</th>\n",
       "      <td>-0.780000</td>\n",
       "      <td>-144.250000</td>\n",
       "    </tr>\n",
       "    <tr>\n",
       "      <th>50%</th>\n",
       "      <td>-0.330000</td>\n",
       "      <td>-53.290001</td>\n",
       "    </tr>\n",
       "    <tr>\n",
       "      <th>75%</th>\n",
       "      <td>-0.150000</td>\n",
       "      <td>-17.990000</td>\n",
       "    </tr>\n",
       "    <tr>\n",
       "      <th>max</th>\n",
       "      <td>0.000000</td>\n",
       "      <td>0.000000</td>\n",
       "    </tr>\n",
       "  </tbody>\n",
       "</table>\n",
       "</div>"
      ],
      "text/plain": [
       "       Order Item Profit Ratio  Benefit per order\n",
       "count             34961.000000       34961.000000\n",
       "mean                 -0.603989        -111.082273\n",
       "std                   0.626538         158.916698\n",
       "min                  -2.750000       -4274.979980\n",
       "25%                  -0.780000        -144.250000\n",
       "50%                  -0.330000         -53.290001\n",
       "75%                  -0.150000         -17.990000\n",
       "max                   0.000000           0.000000"
      ]
     },
     "execution_count": 39,
     "metadata": {},
     "output_type": "execute_result"
    }
   ],
   "source": [
    "neg_profit_df[['Order Item Profit Ratio', 'Benefit per order']].describe()"
   ]
  },
  {
   "cell_type": "code",
   "execution_count": 40,
   "metadata": {},
   "outputs": [
    {
     "data": {
      "text/html": [
       "<div>\n",
       "<style scoped>\n",
       "    .dataframe tbody tr th:only-of-type {\n",
       "        vertical-align: middle;\n",
       "    }\n",
       "\n",
       "    .dataframe tbody tr th {\n",
       "        vertical-align: top;\n",
       "    }\n",
       "\n",
       "    .dataframe thead th {\n",
       "        text-align: right;\n",
       "    }\n",
       "</style>\n",
       "<table border=\"1\" class=\"dataframe\">\n",
       "  <thead>\n",
       "    <tr style=\"text-align: right;\">\n",
       "      <th></th>\n",
       "      <th>Order Item Profit Ratio</th>\n",
       "      <th>Benefit per order</th>\n",
       "    </tr>\n",
       "  </thead>\n",
       "  <tbody>\n",
       "    <tr>\n",
       "      <th>count</th>\n",
       "      <td>180519.000000</td>\n",
       "      <td>180519.000000</td>\n",
       "    </tr>\n",
       "    <tr>\n",
       "      <th>mean</th>\n",
       "      <td>0.120647</td>\n",
       "      <td>21.974989</td>\n",
       "    </tr>\n",
       "    <tr>\n",
       "      <th>std</th>\n",
       "      <td>0.466796</td>\n",
       "      <td>104.433526</td>\n",
       "    </tr>\n",
       "    <tr>\n",
       "      <th>min</th>\n",
       "      <td>-2.750000</td>\n",
       "      <td>-4274.979980</td>\n",
       "    </tr>\n",
       "    <tr>\n",
       "      <th>25%</th>\n",
       "      <td>0.080000</td>\n",
       "      <td>7.000000</td>\n",
       "    </tr>\n",
       "    <tr>\n",
       "      <th>50%</th>\n",
       "      <td>0.270000</td>\n",
       "      <td>31.520000</td>\n",
       "    </tr>\n",
       "    <tr>\n",
       "      <th>75%</th>\n",
       "      <td>0.360000</td>\n",
       "      <td>64.800003</td>\n",
       "    </tr>\n",
       "    <tr>\n",
       "      <th>max</th>\n",
       "      <td>0.500000</td>\n",
       "      <td>911.799988</td>\n",
       "    </tr>\n",
       "  </tbody>\n",
       "</table>\n",
       "</div>"
      ],
      "text/plain": [
       "       Order Item Profit Ratio  Benefit per order\n",
       "count            180519.000000      180519.000000\n",
       "mean                  0.120647          21.974989\n",
       "std                   0.466796         104.433526\n",
       "min                  -2.750000       -4274.979980\n",
       "25%                   0.080000           7.000000\n",
       "50%                   0.270000          31.520000\n",
       "75%                   0.360000          64.800003\n",
       "max                   0.500000         911.799988"
      ]
     },
     "execution_count": 40,
     "metadata": {},
     "output_type": "execute_result"
    }
   ],
   "source": [
    "supply_chain[['Order Item Profit Ratio', 'Benefit per order']].describe()"
   ]
  },
  {
   "cell_type": "code",
   "execution_count": 41,
   "metadata": {},
   "outputs": [],
   "source": [
    "#### Renaming columns\n",
    "supply_chain = supply_chain.rename(columns = {'Type' : 'type', 'Days for shipping (real)' : 'shipping_days_real', 'Days for shipment (scheduled)' : 'shipping_days_scheduled',\n",
    "       'Benefit per order' : 'profit_per_order', 'Sales per customer' : 'sales_per_customer', 'Delivery Status' : 'delivery_status',\n",
    "       'Late_delivery_risk' : 'late_delivery_risk', 'Category Id' : 'category_id', 'Category Name' : 'category_name', 'Customer City' : 'customer_city',\n",
    "       'Customer Country' : 'customer_country', 'Customer Id' : 'customer_id', 'Customer Segment' : 'customer_segment',\n",
    "       'Customer State' : 'customer_state', 'Department Id' : 'department_id', 'Department Name' : 'department_name', 'Market' : 'market',\n",
    "       'Order City' : 'order_city', 'Order Country' : 'order_country', \n",
    "       'order date (DateOrders)' : 'order_date', 'Order Id' : 'order_id', 'Order Item Discount' : 'order_item_discount', 'Order Item Discount Rate' : 'order_item_discount_rate', 'Order Item Id': 'order_item_id',\n",
    "       'Order Item Profit Ratio' : 'order_item_profit_ratio',\n",
    "       'Order Item Quantity' : 'order_item_quantity', 'Sales' : 'sales',\n",
    "       'Order Region' : 'order_region', 'Order State' : 'order_state', 'Order Status' : 'order_status', 'Product Card Id' : 'product_id_card', 'Product Name' : 'product_name', 'Product Price' : 'product_price',\n",
    "       'Product Status' : 'product_status', 'shipping date (DateOrders)' : 'shipping_date', 'Shipping Mode' : 'shipping_mode'})"
   ]
  },
  {
   "cell_type": "code",
   "execution_count": null,
   "metadata": {},
   "outputs": [],
   "source": []
  },
  {
   "cell_type": "code",
   "execution_count": 42,
   "metadata": {},
   "outputs": [
    {
     "data": {
      "application/vnd.jupyter.widget-view+json": {
       "model_id": "a20122a0db7a4e56902ebbccb8fa5276",
       "version_major": 2,
       "version_minor": 0
      },
      "text/plain": [
       "Summarize dataset:   0%|          | 0/5 [00:00<?, ?it/s]"
      ]
     },
     "metadata": {},
     "output_type": "display_data"
    },
    {
     "data": {
      "application/vnd.jupyter.widget-view+json": {
       "model_id": "18173fb5bf074957b22118e7325bb3cf",
       "version_major": 2,
       "version_minor": 0
      },
      "text/plain": [
       "Generate report structure:   0%|          | 0/1 [00:00<?, ?it/s]"
      ]
     },
     "metadata": {},
     "output_type": "display_data"
    },
    {
     "data": {
      "application/vnd.jupyter.widget-view+json": {
       "model_id": "10f5043e8950499e87859509b78faaa2",
       "version_major": 2,
       "version_minor": 0
      },
      "text/plain": [
       "Render HTML:   0%|          | 0/1 [00:00<?, ?it/s]"
      ]
     },
     "metadata": {},
     "output_type": "display_data"
    },
    {
     "data": {
      "application/vnd.jupyter.widget-view+json": {
       "model_id": "83abf58f4b13481c95c4f29ed878f00b",
       "version_major": 2,
       "version_minor": 0
      },
      "text/plain": [
       "Export report to file:   0%|          | 0/1 [00:00<?, ?it/s]"
      ]
     },
     "metadata": {},
     "output_type": "display_data"
    }
   ],
   "source": [
    "# creating data profile\n",
    "clean_profile = yd.ProfileReport(supply_chain)\n",
    "clean_profile.to_file(\"clean_supply_chain_profile.html\")"
   ]
  },
  {
   "cell_type": "code",
   "execution_count": 43,
   "metadata": {},
   "outputs": [],
   "source": [
    "# exporting df to pickle\n",
    "supply_chain.to_pickle(os.path.join(path, 'clean_supply_chain.pkl'))"
   ]
  }
 ],
 "metadata": {
  "kernelspec": {
   "display_name": "base",
   "language": "python",
   "name": "python3"
  },
  "language_info": {
   "codemirror_mode": {
    "name": "ipython",
    "version": 3
   },
   "file_extension": ".py",
   "mimetype": "text/x-python",
   "name": "python",
   "nbconvert_exporter": "python",
   "pygments_lexer": "ipython3",
   "version": "3.10.9"
  },
  "orig_nbformat": 4
 },
 "nbformat": 4,
 "nbformat_minor": 2
}
